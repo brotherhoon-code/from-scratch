{
 "cells": [
  {
   "attachments": {},
   "cell_type": "markdown",
   "metadata": {},
   "source": [
    "# (PART3) 흥미로운 GAN 기법"
   ]
  },
  {
   "cell_type": "code",
   "execution_count": 1,
   "metadata": {},
   "outputs": [],
   "source": [
    "import torch\n",
    "import torch.nn as nn\n",
    "from torch.utils.data import Dataset\n",
    "\n",
    "import pandas, numpy, random\n",
    "import matplotlib.pyplot as plt"
   ]
  },
  {
   "attachments": {},
   "cell_type": "markdown",
   "metadata": {},
   "source": [
    "## (CHAPTER9) 합성곱 GAN  "
   ]
  },
  {
   "attachments": {},
   "cell_type": "markdown",
   "metadata": {},
   "source": [
    "### 메모리 소비  \n",
    "* (크게 영양가 없는 내용으로 pass 😅)  "
   ]
  },
  {
   "attachments": {},
   "cell_type": "markdown",
   "metadata": {},
   "source": [
    "### 지역화된 이미지 특성  \n",
    "* <span style='color:red'><b>머신러닝의 황금 규칙은 가능한 모든 지식을 총 동원해서 문제를 푸는 것임.</b></span>  \n",
    "* <span style='color:red'><b>도메인 지식을 활용해 쓸모없는 방법을 거르고, 좋은것들만 조합을 만들어서 적용하는것이 빠름.</b></span>  \n",
    "* 이미지의 유의미한 특성은 지역적인 특성(localized)임  (ex) 눈과 코는 근처에 위치함.  \n",
    "* 이러한 직관을 사용해, 신경망 분류를 디자인하면 더욱 효과적임.  "
   ]
  },
  {
   "attachments": {},
   "cell_type": "markdown",
   "metadata": {},
   "source": [
    "### 합성곱 필터  \n",
    "* (크게 영양가 없는 내용으로 pass 😅)  "
   ]
  },
  {
   "attachments": {},
   "cell_type": "markdown",
   "metadata": {},
   "source": [
    "### 커널 가중치 학습하기  \n",
    "* (크게 영양가 없는 내용으로 pass 😅)  "
   ]
  },
  {
   "attachments": {},
   "cell_type": "markdown",
   "metadata": {},
   "source": [
    "### 특성의 계층구조  \n",
    "* 특성 맵에 다시 합성곱 커널의 레이어를 추가하면 고수준의 특성을 얻을 수 있음.  \n",
    "* low level -> middle level -> high level로 계층적인 분석을 거치도록 구조 설계가 가능함.  "
   ]
  },
  {
   "attachments": {},
   "cell_type": "markdown",
   "metadata": {},
   "source": [
    "### MNIST CNN"
   ]
  },
  {
   "attachments": {},
   "cell_type": "markdown",
   "metadata": {},
   "source": [
    "* <code>LayerNorm()</code>대신 <code>BatchNorm()</code>으로 변경 <span style=\"color:green\"># 이 부분을 왜 변경했는가?<span>  \n"
   ]
  },
  {
   "cell_type": "code",
   "execution_count": 2,
   "metadata": {},
   "outputs": [],
   "source": [
    "class View(nn.Module):\n",
    "    def __init__(self, shape):\n",
    "        super().__init__()\n",
    "        self.shape = shape, # 튜플로 바꿈(왜냐하면 *을 이용해서 flatten하기 위해)\n",
    "        \n",
    "    def forward(self, x:torch.Tensor):\n",
    "        return x.view(*self.shape)"
   ]
  },
  {
   "cell_type": "code",
   "execution_count": 4,
   "metadata": {},
   "outputs": [],
   "source": [
    "class Discriminator(nn.Module):\n",
    "    def __init__(self):\n",
    "        super().__init__()\n",
    "        self.model = nn.Sequential(\n",
    "            nn.Linear(784, 200),\n",
    "            # nn.Sigmoid(),\n",
    "            nn.LeakyReLU(0.02), # 2️⃣\n",
    "            nn.LayerNorm(200), # 3️⃣\n",
    "            nn.Linear(200, 1),\n",
    "            nn.Sigmoid()\n",
    "        )\n",
    "        \n",
    "        # self.loss_function = nn.MSELoss()\n",
    "        self.loss_function = nn.BCELoss() # 1️⃣\n",
    "        # self.optimizer = torch.optim.SGD(self.parameters(), lr=0.01)\n",
    "        self.optimizer = torch.optim.Adam(self.parameters(), lr=1e-4) # 4️⃣\n",
    "        self.counter = 0 # count epoch\n",
    "        self.progress = [] # for appending loss\n",
    "    \n",
    "\n",
    "    def train(self, inputs, targets):\n",
    "        \"\"\"params update와 logging까지 같이 수행하는 함수\n",
    "\n",
    "        Args:\n",
    "            inputs (torch.Tensor): 데이터\n",
    "            targets (torch.Tensor): 라벨\n",
    "        \"\"\"\n",
    "        outputs = self.forward(inputs) # forward\n",
    "        loss:torch.Tensor = self.loss_function(outputs, targets) # loss\n",
    "        \n",
    "        # appending loss\n",
    "        self.counter += 1\n",
    "        if  (self.counter % 10 == 0):\n",
    "            self.progress.append(loss.item())\n",
    "        # print info\n",
    "        if (self.counter % 10000 == 0):\n",
    "            print(f\"counter = {self.counter}\")\n",
    "            \n",
    "\n",
    "        self.optimizer.zero_grad()\n",
    "        loss.backward()\n",
    "        self.optimizer.step()\n",
    "    \n",
    "    def plot_progress(self):\n",
    "        df = pandas.DataFrame(self.progress, columns=[\"loss\"])\n",
    "        df.plot(\n",
    "            ylim=(0), # 범위 제한 삭제\n",
    "            figsize=(8, 4), alpha=0.1, marker=\".\", grid=True, yticks=(0, 0.25, 0.5, 1.0, 5.0),\n",
    "        )\n",
    "    \n",
    "    def forward(self, x):\n",
    "        x = self.model(x)\n",
    "        return x"
   ]
  },
  {
   "attachments": {},
   "cell_type": "markdown",
   "metadata": {},
   "source": [
    "### CelebA CNN  "
   ]
  },
  {
   "cell_type": "code",
   "execution_count": null,
   "metadata": {},
   "outputs": [],
   "source": [
    "def crop_centre(img, new_width, new_height):\n",
    "    return None"
   ]
  },
  {
   "attachments": {},
   "cell_type": "markdown",
   "metadata": {},
   "source": [
    "* 지역화된 패치가 하나씩 붙어있는 모양새임.    \n",
    "* 이것으로 가늠컨데, 의도적으로 얼굴 특정 부분에 집중하는 것은 장점도 있으나 단점도 존재함.  "
   ]
  },
  {
   "attachments": {},
   "cell_type": "markdown",
   "metadata": {},
   "source": [
    "### 각자 실험해보기"
   ]
  },
  {
   "attachments": {},
   "cell_type": "markdown",
   "metadata": {},
   "source": [
    "* <code>nn.LeakyReLU()</code>대신 <code>nn.GELU()</code>를 사용"
   ]
  },
  {
   "attachments": {},
   "cell_type": "markdown",
   "metadata": {},
   "source": [
    "### 핵심 정리\n",
    "* CNN은 로컬 정보를 통해 전체 이미지의 특성을 찾을 수 있다는 점을 활용함.  \n",
    "* CNN의 특성 탐색은 low, middle, high로 이루어져 있음.  \n",
    "* CNN을 사용한 Generator는 얼굴 요소들의 조화가 깨질 수 있음.  \n",
    "* 왜냐하면, 지역화된 정보만 학습하고 전체적인 관계는 학습하지 않게 구현했기 때문.  "
   ]
  },
  {
   "attachments": {},
   "cell_type": "markdown",
   "metadata": {},
   "source": [
    "## (CHAPTER10) 조건부 GAN"
   ]
  },
  {
   "attachments": {},
   "cell_type": "markdown",
   "metadata": {},
   "source": [
    "### 조건부 GAN 구조\n",
    "* 생성기에 임의의 시드 + 어떤 이미지를 원하는지 입력을 넣어줘야 함.  \n",
    "* 클레스 레이블과 이미지 사이의 관계를 추가학습할 필요가 있음.  \n",
    "* 생성기와 판별기 모두 이미지 데이터와 클레스 레이블을 추가로 받음.  "
   ]
  },
  {
   "attachments": {},
   "cell_type": "markdown",
   "metadata": {},
   "source": [
    "### 판별기  \n",
    "* 이미지 텐서와 원핫으로 변환된 레이블 텐서를 단순 결합(concat)  "
   ]
  },
  {
   "attachments": {},
   "cell_type": "markdown",
   "metadata": {},
   "source": [
    "### 생성기  "
   ]
  },
  {
   "attachments": {},
   "cell_type": "markdown",
   "metadata": {},
   "source": [
    "..."
   ]
  },
  {
   "attachments": {},
   "cell_type": "markdown",
   "metadata": {},
   "source": [
    "### 훈련 반복문  \n",
    "* random_label 변수를 사용해서 판별기, 생성기에 같은 레이블 텐서를 주입함.  "
   ]
  },
  {
   "attachments": {},
   "cell_type": "markdown",
   "metadata": {},
   "source": [
    "### 차트 그리기"
   ]
  },
  {
   "attachments": {},
   "cell_type": "markdown",
   "metadata": {},
   "source": [
    "..."
   ]
  },
  {
   "attachments": {},
   "cell_type": "markdown",
   "metadata": {},
   "source": [
    "### 조건부 GAN 결과 확인하기"
   ]
  },
  {
   "attachments": {},
   "cell_type": "markdown",
   "metadata": {},
   "source": [
    "..."
   ]
  },
  {
   "attachments": {},
   "cell_type": "markdown",
   "metadata": {},
   "source": [
    "### 핵심 정리  \n",
    "* 일반적인 GAN과 달리, 조건부 GAN은 원하는 클래스의 데이터 생성이 가능함.  \n",
    "* 조건부 GAN은 훈련시 판별기에 이미지를 보강해서 전달, 생성기에는 클래스 레이블을 통해 시드가 투입.  \n",
    "* <span style='color:red'>조건부 GAN은 레이블 정보를 받지 않는 일반 GAN보다 이미지 품질이 더 좋음.</span>"
   ]
  }
 ],
 "metadata": {
  "kernelspec": {
   "display_name": "vision",
   "language": "python",
   "name": "python3"
  },
  "language_info": {
   "codemirror_mode": {
    "name": "ipython",
    "version": 3
   },
   "file_extension": ".py",
   "mimetype": "text/x-python",
   "name": "python",
   "nbconvert_exporter": "python",
   "pygments_lexer": "ipython3",
   "version": "3.11.3"
  },
  "orig_nbformat": 4
 },
 "nbformat": 4,
 "nbformat_minor": 2
}
