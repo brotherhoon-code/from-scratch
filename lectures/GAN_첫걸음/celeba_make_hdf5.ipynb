{
 "cells": [
  {
   "cell_type": "code",
   "execution_count": 11,
   "metadata": {},
   "outputs": [],
   "source": [
    "import h5py\n",
    "import zipfile\n",
    "import imageio\n",
    "import os"
   ]
  },
  {
   "cell_type": "code",
   "execution_count": 12,
   "metadata": {},
   "outputs": [
    {
     "name": "stderr",
     "output_type": "stream",
     "text": [
      "/tmp/ipykernel_3563/3926107372.py:9: DeprecationWarning: Starting with ImageIO v3 the behavior of this function will switch to that of iio.v3.imread. To keep the current behavior (and make this warning disappear) use `import imageio.v2 as imageio` or call `imageio.v2.imread` directly.\n",
      "  img = imageio.imread(img_path) # read image\n"
     ]
    },
    {
     "name": "stdout",
     "output_type": "stream",
     "text": [
      "images done... 5000\n",
      "images done... 10000\n",
      "images done... 15000\n",
      "images done... 20000\n"
     ]
    }
   ],
   "source": [
    "hdf5_file = './celeba_aligned_small.h5py' # 생성된 이 파일은 1.8G수준 # 원래 데이터는 169M 정도인데 왜 이렇게 차이가 날까...?\n",
    "dir_path = './img_align_celeba_20000/'\n",
    "total_images = 20000\n",
    "\n",
    "with h5py.File(hdf5_file, 'w') as hf:\n",
    "    count=0\n",
    "    for f in os.listdir(dir_path):\n",
    "        img_path = os.path.join(dir_path, f) # image path\n",
    "        img = imageio.imread(img_path) # read image\n",
    "        \n",
    "        hf.create_dataset('img_align_celeba/'+str(count)+'.jpg', data=img, compression=\"gzip\", compression_opts=9) # create hdf5.py dataset\n",
    "        count = count + 1 # count\n",
    "        \n",
    "        if count%5000 == 0:\n",
    "            print(\"images done...\",count) # for logging\n",
    "            \n",
    "        if count == total_images: # end\n",
    "            break"
   ]
  }
 ],
 "metadata": {
  "kernelspec": {
   "display_name": "vision",
   "language": "python",
   "name": "python3"
  },
  "language_info": {
   "codemirror_mode": {
    "name": "ipython",
    "version": 3
   },
   "file_extension": ".py",
   "mimetype": "text/x-python",
   "name": "python",
   "nbconvert_exporter": "python",
   "pygments_lexer": "ipython3",
   "version": "3.11.3"
  },
  "orig_nbformat": 4
 },
 "nbformat": 4,
 "nbformat_minor": 2
}
