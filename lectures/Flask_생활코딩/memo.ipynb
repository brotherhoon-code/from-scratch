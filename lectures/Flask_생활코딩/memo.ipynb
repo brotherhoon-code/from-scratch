{
 "cells": [
  {
   "attachments": {},
   "cell_type": "markdown",
   "metadata": {},
   "source": [
    "# 강의 레퍼런스 : [Python Flask Web Framework_생활코딩](https://youtube.com/playlist?list=PLuHgQVnccGMClNOIuT3b3M4YZjxmult2y)"
   ]
  },
  {
   "attachments": {},
   "cell_type": "markdown",
   "metadata": {},
   "source": [
    "## 3. 플라스크를 사용하는 이유  "
   ]
  },
  {
   "attachments": {},
   "cell_type": "markdown",
   "metadata": {},
   "source": [
    "```python\n",
    "from flask import Flask\n",
    "import random\n",
    "\n",
    "app = Flask(__name__)\n",
    "\n",
    "@app.route('/')\n",
    "def index():\n",
    "    return f'random : <strong>{str(random.random())}</strong>' \n",
    "    # return 뒤에는 str 변수가 와야 함\n",
    "    # html 태그를 이용할 수 있음\n",
    "\n",
    "app.run(port=5001, debug=True)\n",
    "# port 아규먼트를 이용해서 열릴 포트를 지정 가능함\n",
    "# debug를 이용해서 변경사항을 F5를 눌러 즉각적으로 확인가능함\n",
    "# (실제 릴리즈시에는 사용하면 안됨)\n",
    "```"
   ]
  },
  {
   "attachments": {},
   "cell_type": "markdown",
   "metadata": {},
   "source": [
    "브라우저 입장에서는 HTML만 알면 됨.  \n",
    "그러므로 Flask에서 동적으로 HTML을 만들어서 리턴하면 동적으로 페이지 생성가능함.  "
   ]
  },
  {
   "attachments": {},
   "cell_type": "markdown",
   "metadata": {},
   "source": [
    "## 4. 라우팅"
   ]
  },
  {
   "attachments": {},
   "cell_type": "markdown",
   "metadata": {},
   "source": [
    "\"웹 프레임워크가 라우팅을 어떻게하나?\"  \n",
    "알아도 50%는 파악하는 정도로 중요한 부분임.  \n",
    "  \n",
    "하나의 리턴을 포함하는 \"함수\"가 각 \"주소\"를 담당함.  \n",
    "\"함수\"와 \"주소\"를 연결하는 것이 라우팅.  \n",
    "라우팅을 해주는것이 라우터.  \n",
    "  \n",
    "동적인 페이지를 생성하기 위해서는 <code><>(꺽쇠)</code>를 이용함.  \n",
    "①꺽쇠로 페이지 주소로 사용할 변수를 선언.  \n",
    "②리턴할 함수의 파라미터로 코드를 구성하면 됨.  \n",
    "\n",
    "```python\n",
    "# ex) your_port/read/1 로 들어오면 \"this is page No.1\" 이 웹페이지에 print\n",
    "@app.route('/read/<page>')\n",
    "def read(page): # page를 파라미터로 함수 구성\n",
    "    return f'this is page No.{page}'\n",
    "```\n"
   ]
  },
  {
   "attachments": {},
   "cell_type": "markdown",
   "metadata": {},
   "source": [
    "## 5. 홈페이지 구현"
   ]
  },
  {
   "attachments": {},
   "cell_type": "markdown",
   "metadata": {},
   "source": [
    "아래와 같은 코드가 있다는 상태에서 설명이 시작됨"
   ]
  },
  {
   "attachments": {},
   "cell_type": "markdown",
   "metadata": {},
   "source": [
    "```python\n",
    "from flask import Flask\n",
    "import random\n",
    "\n",
    "app = Flask(__name__)\n",
    "\n",
    "@app.route('/')\n",
    "def index():\n",
    "    return '''<!doctype html>\n",
    "    <html>\n",
    "        <body>\n",
    "            <h1><a href=\"/\">WEB</a></h1>\n",
    "            <ol>\n",
    "                <li><a href=\"/read/1/\">html</a></li>\n",
    "                <li><a href=\"/read/2/\">css</a></li>\n",
    "                <li><a href=\"/read/3/\">javascript</a></li>\n",
    "            </ol>\n",
    "            <h2>Welcome</h2>\n",
    "            Hello, Web\n",
    "        </body>\n",
    "    </html>\n",
    "    '''\n",
    "\n",
    "# ex\n",
    "@app.route('/read/<page>')\n",
    "def read(page):\n",
    "    return f'this is page No.{page}'\n",
    "\n",
    "app.run(port=5001, debug=True)\n",
    "```"
   ]
  },
  {
   "attachments": {},
   "cell_type": "markdown",
   "metadata": {},
   "source": [
    "이 코드에서 반복되는 부분(=동적인 부분?)을 파이썬의 딕셔너리 구조체로 변경이 가능함.  \n",
    "```python\n",
    "<li><a href=\"/read/1/\">html</a></li>\n",
    "<li><a href=\"/read/2/\">css</a></li>\n",
    "<li><a href=\"/read/3/\">javascript</a></li>\n",
    "```"
   ]
  },
  {
   "attachments": {},
   "cell_type": "markdown",
   "metadata": {},
   "source": [
    "아래와 같이 </code>for</code>와 <code>dict</code>를 이용해서 딕셔너리를  \n",
    "string으로 변환해서 대체하면 조금 더 fancy하게 만들 수 있음.  \n",
    "\\# data type을 무엇으로 사용했는지를 잘 기억해둘 필요가 있어 보임  \n",
    "\\# \\<a ref\\='세부주소'>를 이용해서 링크와 연결하는 문법을 기억해둘 필요가 있어 보임"
   ]
  },
  {
   "attachments": {},
   "cell_type": "markdown",
   "metadata": {},
   "source": [
    "```python\n",
    "topics = [\n",
    "    {'id':1, 'title':'html', 'body':'html is ...'},\n",
    "    {'id':2, 'title':'css', 'body':'css is ...'},\n",
    "    {'id':3, 'title':'javascript', 'body':'javascript is ...'}\n",
    "]\n",
    "\n",
    "@app.route('/')\n",
    "def index():\n",
    "    liTags = '' # f-string으로 만들 문장\n",
    "    for topic in topics:\n",
    "        liTags = liTags + f'<li><a href=\"/read/{topic[\"id\"]}\">{topic[\"title\"]}</a></li>' # <a href=\"sub주소\">를 이용\n",
    "    return f'''<!doctype html>\n",
    "    <html>\n",
    "        <body>\n",
    "            <h1><a href=\"/\">WEB</a></h1>\n",
    "            <ol>\n",
    "                {liTags}\n",
    "            </ol>\n",
    "            <h2>Welcome</h2>\n",
    "            Hello, Web\n",
    "        </body>\n",
    "    </html>\n",
    "    '''\n",
    "```"
   ]
  },
  {
   "attachments": {},
   "cell_type": "markdown",
   "metadata": {},
   "source": [
    "일반적으로 topics는 <code>DB</code>를 이용해서 구성함.  "
   ]
  },
  {
   "attachments": {},
   "cell_type": "markdown",
   "metadata": {},
   "source": [
    "## 6. 읽기"
   ]
  },
  {
   "attachments": {},
   "cell_type": "markdown",
   "metadata": {},
   "source": [
    "기억해둬야 할 것은 다음과 같음  \n",
    "1. 반복된 string은 템플릿(template)구현으로 해결  \n",
    "2. int가 들어오는 경우 데코레이터에 hint를 명시  \n",
    "이것을 이용해서 전체 코드를 편집하면 다음과 같음"
   ]
  },
  {
   "attachments": {},
   "cell_type": "markdown",
   "metadata": {},
   "source": [
    "```python\n",
    "from flask import Flask\n",
    "import random\n",
    "\n",
    "app = Flask(__name__)\n",
    "\n",
    "topics = [\n",
    "    {'id':1, 'title':'html', 'body':'html is ...'},\n",
    "    {'id':2, 'title':'css', 'body':'css is ...'},\n",
    "    {'id':3, 'title':'javascript', 'body':'javascript is ...'}\n",
    "]\n",
    "\n",
    "\n",
    "# 반복되는 부분을 템플릿(html 생성기)으로 처리, 지금은 임시로 함수로 구현\n",
    "def template(contents, content):\n",
    "    return f'''<!doctype html>\n",
    "    <html>\n",
    "        <body>\n",
    "            <h1><a href=\"/\">WEB</a></h1>\n",
    "            <ol>\n",
    "                {contents}\n",
    "            </ol>\n",
    "            {content}\n",
    "            Hello, Web\n",
    "        </body>\n",
    "    </html>\n",
    "    '''\n",
    "\n",
    "# 모두가 동일한 contents를 리턴하는 함수 구현\n",
    "def getContents():\n",
    "    liTags = '' # f-string으로 만들 문장\n",
    "    for topic in topics:\n",
    "        liTags = liTags + f'<li><a href=\"/read/{topic[\"id\"]}\">{topic[\"title\"]}</a></li>'\n",
    "    return liTags\n",
    "\n",
    "@app.route('/')\n",
    "def index():\n",
    "    return template(getContents(), '<h2>Welcome</h2>Hello, WEB')\n",
    "\n",
    "# ex\n",
    "@app.route('/read/<int:id>')\n",
    "def read(id): # 여기에서 id로 들어오는 내용은 string임 \n",
    "              # 따라서 뒤의 == 문법을 이용하기 까다로움 \n",
    "              # 그러므로 데코레이터에 int라는 hint를 지정해서 정수로 형변환을 해줌\n",
    "    for topic in topics:\n",
    "        if id == topic['id']:\n",
    "            title = topic['title']\n",
    "            body = topic['body']\n",
    "    # print(title, body)\n",
    "    return template(getContents(), f'<h2>{title}</h2>{body}')\n",
    "\n",
    "app.run(port=5001, debug=True)\n",
    "```"
   ]
  },
  {
   "attachments": {},
   "cell_type": "markdown",
   "metadata": {},
   "source": [
    "## 7. 쓰기"
   ]
  },
  {
   "attachments": {},
   "cell_type": "markdown",
   "metadata": {},
   "source": [
    "구현 코드 설계  \n",
    "1. 제일 처음 templete안의 content안에서 버튼을 누르면 create링크를 달고 /create/와 연결되도록 설계\n",
    "2. 처음 진입은 post로 들어오고, create 버튼을 누르고 진입하면 get으로 진입.  \n",
    "3. create버튼을 누를 경우 db에 title과 body의 내용이 들어가도록 할 것.  \n"
   ]
  },
  {
   "attachments": {},
   "cell_type": "markdown",
   "metadata": {},
   "source": [
    "첫번째,  \n",
    "- create url로 들어오면 \"title\", \"body\"가 placeholder로 구성된 텍스트 박스 2개로 생성되도록 content를 구성  \n",
    "  \n",
    "```python\n",
    "content = '''\n",
    "            <form action=\"/create/\" method=\"POST\">\n",
    "                <p><input name=\"title\" type=\"text\" placeholder=\"title\"></p>\n",
    "                <p><textarea name=\"body\" placeholder=\"body\"></textarea></p>\n",
    "                <p><input type=\"submit\" value=\"create\"></p>\n",
    "            </form>\n",
    "        '''\n",
    "\n",
    "```"
   ]
  },
  {
   "attachments": {},
   "cell_type": "markdown",
   "metadata": {},
   "source": [
    "두번째,  \n",
    "- html에서 text box의 이름을 지정하는 것이 name 테그임.  \n",
    "- text box에 name을 지정  \n",
    "- 동작의 트리거를 지정하기 위해서 입력을할수 있는 submit 버튼을 생성.  \n",
    "- submit박스를 만들기 위해서는 type=\"submit\"을 사용.  \n",
    "\n",
    "```html\n",
    "<form action=\"/create/\" method=\"POST\">\n",
    "    <p><input name=\"title\" type=\"text\" placeholder=\"title\"></p>\n",
    "    <p><textarea name=\"body\" placeholder=\"body\"></textarea></p>\n",
    "    <p><input type=\"submit\" value=\"create\"></p>\n",
    "</form>\n",
    "```"
   ]
  },
  {
   "attachments": {},
   "cell_type": "markdown",
   "metadata": {},
   "source": [
    "세번째,  \n",
    "- 버튼을 클릭할 때 \"서버에 값을 전달\"하기 위해서 form 태그를 오버랩 해야함.  \n",
    "- 예를 들어, action이 /asdf/, title이 hello, body가 world라고 입력이 되어있는 상태를 가정  \n",
    "- 클릭하면 http://127.0.0.1:5001/asdf?title=hello&body=world 로 이동함\n",
    "- 이러한 url을 통해서 데이터를 전달하는 방식을 GET방식이라고 명명함\n",
    "- GET방식은 일반적으로 값을 읽어올때(read) 사용함  \n",
    "- 예를들어 검색엔진의 쿼리는 GET방식으로 데이터 전달함"
   ]
  },
  {
   "attachments": {},
   "cell_type": "markdown",
   "metadata": {},
   "source": [
    "네번째,  \n",
    "* 서버에 값을 기록할때는 POST 방식을 사용하는 것이 일반적임.  \n",
    "* 이를 사용하기 위해서는 form 태그의 method를 사용함.  \n",
    "* method=\"POST\"를 사용하면 URL로 데이터를 전달하지 않음.  \n",
    "* 전달된 데이터는 웹 브라우저의 Payload에서 확인할 수 있음.\n",
    "* POST는 GET 방식보다 더 큰 데이터를 안전하게 전달해줄 수 있음.\n",
    "\n",
    "```html\n",
    "<form action=\"/create/\" method=\"POST\">\n",
    "    ...\n",
    "</form>\n",
    "```"
   ]
  },
  {
   "attachments": {},
   "cell_type": "markdown",
   "metadata": {},
   "source": [
    "다섯번째,  \n",
    "* 하지만, POST 방식을 사용하면 Method Not Allowd가 뜰 것임\n",
    "* 왜냐하면, 다시 접속한 /create/는 디폴트로 GET방식만 READ할수 있도록 구현되어 있기 때문.\n",
    "* 이것을 고려하여 두가지를 더 추가해야함.  \n",
    "* ① 데코레이터에 <code>method = ['GET', 'POST']</code>를 추가\n",
    "* ② request 모듈을 임포트해서 호출 방식에 따라 분기문 구현"
   ]
  },
  {
   "attachments": {},
   "cell_type": "markdown",
   "metadata": {},
   "source": [
    "```python\n",
    "@app.route('/create/', methods=['GET', 'POST']) # ⭐\n",
    "def create():\n",
    "    if request.method == 'GET': # ⭐\n",
    "        content = '''abc'''\n",
    "        return template(getContents(), content)\n",
    "    elif request.method == 'POST': # ⭐\n",
    "        return redirect(url)\n",
    "```"
   ]
  },
  {
   "attachments": {},
   "cell_type": "markdown",
   "metadata": {},
   "source": [
    "여섯번째,  \n",
    "* POST 방식으로 호출된 이후 form을 꺼내와야 할 필요가 있음\n",
    "* 그런경우, request.from['your_key']로 가져올 수 있음"
   ]
  },
  {
   "attachments": {},
   "cell_type": "markdown",
   "metadata": {},
   "source": [
    "```python\n",
    "title = request.form['title'] # ⭐\n",
    "body = request.form['body'] # ⭐\n",
    "```"
   ]
  },
  {
   "attachments": {},
   "cell_type": "markdown",
   "metadata": {},
   "source": [
    "일곱번째,  \n",
    "* DB로 가정했던 list에 값을 append하는 로직을 추가함  \n",
    "* return에 <code>redirect()</code>를 이용해서 새로운 URL로 들어가는 로직을 추가함\n",
    "\n",
    "```python\n",
    "    elif request.method == 'POST':\n",
    "        ...\n",
    "        return redirect(url) # ⭐\n",
    "```"
   ]
  },
  {
   "attachments": {},
   "cell_type": "markdown",
   "metadata": {},
   "source": [
    "## 8. 수정"
   ]
  },
  {
   "attachments": {},
   "cell_type": "markdown",
   "metadata": {},
   "source": [
    "첫번째  \n",
    "* update는 create와 거의 비슷한 기능을 수행, 추가적으로 read 기능이 필요함.  \n",
    "* 따라서, <code>create()</code>를 복사해서 만드는 것이 가장 효율적임\n",
    "* 변경부분은, /create/를 /update/id/로 바꾸고, 파라미터 추가\n",
    "\n",
    "```python\n",
    "@app.route('/update/<int:id>/', methods=['GET', 'POST'])\n",
    "def update(id):\n",
    "    ...\n",
    "    return ...\n",
    "```"
   ]
  },
  {
   "attachments": {},
   "cell_type": "markdown",
   "metadata": {},
   "source": [
    "두번째  \n",
    "* 내용을 표시하기 위해서 GET으로 호출된 경우 ID의 타이틀과 BODY를 가져온다.\n",
    "* input과 textarea에 title과 body를 할당한다\n",
    "* action을 update로 바꾸고 submit의 text박스 value에 create를 update로 갱신한다"
   ]
  },
  {
   "attachments": {},
   "cell_type": "markdown",
   "metadata": {},
   "source": [
    "```python\n",
    "if request.method == 'GET':\n",
    "    title = ''\n",
    "    body = ''\n",
    "    for topic in topics:\n",
    "        if id == topic['id']:\n",
    "            title = topic['title']\n",
    "            body = topic['body']\n",
    "            break\n",
    "    content = f'''\n",
    "        <form action=\"/update/{id}/\" method=\"POST\">\n",
    "            <p><input name=\"title\" type=\"text\" placeholder=\"title\" value=\"{title}\"></p>\n",
    "            <p><textarea name=\"body\" placeholder=\"body\" value=\"{body}\">{body}</textarea></p>\n",
    "            <p><input type=\"submit\" value=\"update\"></p>\n",
    "        </form>\n",
    "    '''\n",
    "    return template(getContents(), content)\n",
    "\n",
    "```"
   ]
  },
  {
   "attachments": {},
   "cell_type": "markdown",
   "metadata": {},
   "source": [
    "세번째  \n",
    "* POST의 경우 DB에서 title과 body를 읽어서 /read/ URL로 리다이렉트 한다\n",
    "\n",
    "```python\n",
    "elif request.method == 'POST':\n",
    "    title = request.form['title']\n",
    "    body = request.form['body']\n",
    "    for topic in topics:\n",
    "        if id == topic['id']:\n",
    "            topic['title'] = title\n",
    "            topic['body'] = body\n",
    "            break\n",
    "    url = '/read/' + str(id) + '/'\n",
    "    return redirect(url)\n",
    "\n",
    "```"
   ]
  },
  {
   "attachments": {},
   "cell_type": "markdown",
   "metadata": {},
   "source": [
    "## 8. 수정"
   ]
  },
  {
   "attachments": {},
   "cell_type": "markdown",
   "metadata": {},
   "source": [
    "첫번째,  \n",
    "* 템플릿에 delete 버튼을 생성\n",
    "* delete 버튼은 /delete/{id}/ post방식으로 url 연결\n",
    "* delete는 POST방식으로 구현해야함\n",
    "\n",
    "```python\n",
    "def template(contents, content, id=None): # id 파라미터 추가\n",
    "    contextUI = '' # 디폴트로 아무 내용이 없는 UI\n",
    "    \n",
    "    if id != None: # 만약 id 파라미터가 있다면 업데이트 링크 생성\n",
    "        contextUI = f'''\n",
    "            <li><a href=\"/update/{id}/\">update</a></li>\n",
    "            <li><form action=\"/delete/{id}/\" method=\"POST\"><input type=\"submit\" value=\"delete\"></form></li>\n",
    "            <!-- 템플릿에 델리트 버튼 생성 -->\n",
    "        '''\n",
    "    return f'''<!doctype html>\n",
    "    <html>\n",
    "        <body>\n",
    "            <h1><a href=\"/\">WEB</a></h1>\n",
    "            <ol>\n",
    "                {contents}\n",
    "            </ol>\n",
    "            {content}\n",
    "            <ul>\n",
    "                <li><a href = \"/create/\">create</a></li> \n",
    "                {contextUI} <!-- 만약 파라미터 전달되면 update link 생성 -->\n",
    "            </ul>\n",
    "            <!-- a href: 링크연결을 하기 위한 부분 -->\n",
    "            <!-- li: 목록 -->\n",
    "            <!-- ul: 순서 없는 목록임을 명시 -->\n",
    "        </body>\n",
    "    </html>\n",
    "    '''\n",
    "```"
   ]
  },
  {
   "attachments": {},
   "cell_type": "markdown",
   "metadata": {},
   "source": [
    "두번째,  \n",
    "* 포스트 방식으로 들어올때만 하도록 데코레이터와 함수를 만듬.  \n",
    "* DB에서 해당 id를 remove하고 redirect할때 root로 가도록 구현.  \n",
    "\n",
    "```python\n",
    "@app.route('/delete/<int:id>/', methods=['POST'])\n",
    "def delete(id):\n",
    "    for topic in topics:\n",
    "        if id == topic['id']:\n",
    "            topics.remove(topic)\n",
    "            break\n",
    "    return redirect('/')\n",
    "```"
   ]
  }
 ],
 "metadata": {
  "kernelspec": {
   "display_name": "vision",
   "language": "python",
   "name": "python3"
  },
  "language_info": {
   "name": "python",
   "version": "3.11.3"
  },
  "orig_nbformat": 4
 },
 "nbformat": 4,
 "nbformat_minor": 2
}
