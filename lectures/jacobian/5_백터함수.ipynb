{
 "cells": [
  {
   "attachments": {},
   "cell_type": "markdown",
   "metadata": {},
   "source": [
    "# 백터함수"
   ]
  },
  {
   "attachments": {},
   "cell_type": "markdown",
   "metadata": {},
   "source": [
    "r(t) = [f1(t), f2(t)] = [cos(2π\\*t), sin(2π\\*t)]  \n",
    "\\# 입력 <b><span style=\"color:red\">N</span></b>개로 <b><span style=\"color:red\">M</span></b>개의 백터 out을 만드는 형태가 백터평션  \n",
    "  \n",
    "r(t) = [f1(t1-t2), f2(t1-t2), f3(t1-t2)] = [cos(2π\\*t), sin(2π\\*t), tan(2π\\*t)]  \n",
    "\\# R\\*\\*2 → R\\*\\*3의 차원 변환  \n",
    "  \n",
    "아래 그림과 같이 MLP를 백터 펑션으로 해석 가능함  \n",
    "\\(우리가 가장 많이 접하는 가장 제너럴한 형태\\)  \n",
    "<img src=\"./imgs/vector_function.jpg\" alt=\"이미지_설명\" width=\"400\" height=\"300\">  \n",
    "\n",
    "\n"
   ]
  },
  {
   "attachments": {},
   "cell_type": "markdown",
   "metadata": {},
   "source": [
    "# 백터함수의 야코비안  "
   ]
  },
  {
   "attachments": {},
   "cell_type": "markdown",
   "metadata": {},
   "source": []
  }
 ],
 "metadata": {
  "kernelspec": {
   "display_name": "vision",
   "language": "python",
   "name": "python3"
  },
  "language_info": {
   "name": "python",
   "version": "3.11.3"
  },
  "orig_nbformat": 4
 },
 "nbformat": 4,
 "nbformat_minor": 2
}
