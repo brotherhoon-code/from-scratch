{
 "cells": [
  {
   "attachments": {},
   "cell_type": "markdown",
   "metadata": {},
   "source": [
    "# 백터함수"
   ]
  },
  {
   "attachments": {},
   "cell_type": "markdown",
   "metadata": {},
   "source": [
    "r(t) = [f1(t), f2(t)] = [cos(2π\\*t), sin(2π\\*t)]  \n",
    "\\# 입력 <b><span style=\"color:red\">N</span></b>개로 <b><span style=\"color:red\">M</span></b>개의 백터 out을 만드는 형태가 백터평션  \n",
    "  \n",
    "r(t) = [f1(t1-t2), f2(t1-t2), f3(t1-t2)] = [cos(2π\\*t), sin(2π\\*t), tan(2π\\*t)]  \n",
    "\\# R\\*\\*2 → R\\*\\*3의 차원 변환  \n",
    "  \n",
    "아래 그림과 같이 MLP를 백터 펑션으로 해석 가능함  \n",
    "\\(우리가 가장 많이 접하는 가장 제너럴한 형태\\)  \n",
    "<img src=\"./imgs/vector_function.jpg\" alt=\"이미지_설명\" width=\"400\" height=\"300\">  \n",
    "\n",
    "\n"
   ]
  },
  {
   "attachments": {},
   "cell_type": "markdown",
   "metadata": {},
   "source": [
    "# 백터함수의 야코비안  "
   ]
  },
  {
   "attachments": {},
   "cell_type": "markdown",
   "metadata": {},
   "source": [
    "4가지 경우의 Jacobians 존재  \n",
    "1. f가 한개, x가 한개  \n",
    "2. f가 여러개, x 한개  \n",
    "3. f가 한개, x가 여러개  \n",
    "4. f가 여러개, x가 여러개  \n",
    "<img src=\"./imgs/230529_1.jpg\" alt=\"이미지_설명\" width=\"600\" height=\"300\"> \n",
    "  \n",
    "4번이 가장 super_class임  \n",
    "4번의 경우(다변수, 다변수) grad는 야코비안 <span style=\"color:red\">Matrix</span>의 형태를 가지게 됨  \n",
    "mxn의 형태를 띄는데 row\\(m\\)는 함수의 개수, col\\(n\\)은 변수의 개수임  \n",
    "  \n",
    "<img src=\"./imgs/multi_jacobian.jpg\" alt=\"이미지_설명\" width=\"600\" height=\"300\">  \n",
    "\n",
    "미분과 선형대수의 개념이 합쳐진 것을 야코비안이라 생각하면 됨.  \n",
    "\n",
    "\n",
    "  \n",
    " \n",
    "\n",
    "\n"
   ]
  },
  {
   "attachments": {},
   "cell_type": "markdown",
   "metadata": {},
   "source": [
    "# 백터함수로서의 Affine 함수"
   ]
  },
  {
   "attachments": {},
   "cell_type": "markdown",
   "metadata": {},
   "source": [
    "z, x, w, b가 열백터일 경우 mlp에서의 연산은 아래와 같이 표현될 수 있음.  \n",
    "z = transpose(x) * w + b  \n",
    "<img src=\"./imgs/230529_3.jpg\" alt=\"이미지_설명\" width=\"400\" height=\"200\">  \n",
    "  \n",
    "dz_dx는 traspose(w)가 됨.  \n",
    "dz_db는 identity matrix가 됨.  \n",
    "dz_dw는 transpose(x),transpose(x),... 가 됨.  \n",
    "<img src=\"./imgs/230529_4.jpg\" alt=\"이미지_설명\" width=\"600\" height=\"300\"> \n"
   ]
  },
  {
   "attachments": {},
   "cell_type": "markdown",
   "metadata": {},
   "source": []
  },
  {
   "attachments": {},
   "cell_type": "markdown",
   "metadata": {},
   "source": []
  },
  {
   "attachments": {},
   "cell_type": "markdown",
   "metadata": {},
   "source": []
  },
  {
   "attachments": {},
   "cell_type": "markdown",
   "metadata": {},
   "source": []
  }
 ],
 "metadata": {
  "kernelspec": {
   "display_name": "vision",
   "language": "python",
   "name": "python3"
  },
  "language_info": {
   "name": "python",
   "version": "3.11.3"
  },
  "orig_nbformat": 4
 },
 "nbformat": 4,
 "nbformat_minor": 2
}
