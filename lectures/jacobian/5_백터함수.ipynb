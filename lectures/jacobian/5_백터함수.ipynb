{
 "cells": [
  {
   "attachments": {},
   "cell_type": "markdown",
   "metadata": {},
   "source": [
    "# 백터함수"
   ]
  },
  {
   "attachments": {},
   "cell_type": "markdown",
   "metadata": {},
   "source": [
    "r(t) = [f1(t), f2(t)] = [cos(2π\\*t), sin(2π\\*t)]  \n",
    "\\# 입력 <b><span style=\"color:red\">N</span></b>개로 <b><span style=\"color:red\">M</span></b>개의 백터 out을 만드는 형태가 백터평션  \n",
    "  \n",
    "r(t) = [f1(t1-t2), f2(t1-t2), f3(t1-t2)] = [cos(2π\\*t), sin(2π\\*t), tan(2π\\*t)]  \n",
    "\\# R\\*\\*2 → R\\*\\*3의 차원 변환  \n",
    "  \n",
    "아래 그림과 같이 MLP를 백터 펑션으로 해석 가능함  \n",
    "\\(우리가 가장 많이 접하는 가장 제너럴한 형태\\)  \n",
    "<img src=\"./imgs/vector_function.jpg\" alt=\"이미지_설명\" width=\"400\" height=\"300\">  \n",
    "\n",
    "\n"
   ]
  },
  {
   "attachments": {},
   "cell_type": "markdown",
   "metadata": {},
   "source": [
    "# 백터함수의 야코비안  "
   ]
  },
  {
   "attachments": {},
   "cell_type": "markdown",
   "metadata": {},
   "source": [
    "4가지 경우의 Jacobians 존재  \n",
    "1. f가 한개, x가 한개  \n",
    "2. f가 여러개, x 한개  \n",
    "3. f가 한개, x가 여러개  \n",
    "4. f가 여러개, x가 여러개  \n",
    "<img src=\"./imgs/230529_1.jpg\" alt=\"이미지_설명\" width=\"600\" height=\"300\"> \n",
    "  \n",
    "4번이 가장 super_class임  \n",
    "4번의 경우(다변수, 다변수) grad는 야코비안 <span style=\"color:red\">Matrix</span>의 형태를 가지게 됨  \n",
    "mxn의 형태를 띄는데 row\\(m\\)는 함수의 개수, col\\(n\\)은 변수의 개수임  \n",
    "  \n",
    "<img src=\"./imgs/multi_jacobian.jpg\" alt=\"이미지_설명\" width=\"600\" height=\"300\">  \n",
    "\n",
    "미분과 선형대수의 개념이 합쳐진 것을 야코비안이라 생각하면 됨.  \n",
    "\n",
    "\n",
    "  \n",
    " \n",
    "\n",
    "\n"
   ]
  },
  {
   "attachments": {},
   "cell_type": "markdown",
   "metadata": {},
   "source": [
    "# 백터함수로서의 Affine 함수"
   ]
  },
  {
   "attachments": {},
   "cell_type": "markdown",
   "metadata": {},
   "source": [
    "z, x, w, b가 열백터일 경우 mlp에서의 연산은 아래와 같이 표현될 수 있음.  \n",
    "z = transpose(x) * w + b  \n",
    "<img src=\"./imgs/230529_3.jpg\" alt=\"이미지_설명\" width=\"400\" height=\"200\">  \n",
    "  \n",
    "dz_dx는 traspose(W)가 됨.  \n",
    "dz_db는 Identity Matrix가 됨.  \n",
    "⭐dz_dw는 아래 참고.  \n",
    "<img src=\"./imgs/230529_4.jpg\" alt=\"이미지_설명\" width=\"800\" height=\"400\"> \n"
   ]
  },
  {
   "attachments": {},
   "cell_type": "markdown",
   "metadata": {},
   "source": [
    "미니배치  \n",
    "각 입력(x1, x2, x3, ...)마다의 pred결과 z1, z2, z3, ...이 생성됨  \n",
    "z1 = x1\\*W + B  \n",
    "z2 = x2\\*W + B  \n",
    "z3 = x3\\*W + B  \n",
    "z4 = x4\\*W + B  \n",
    "...  \n",
    "이는 matrix 형태로  \n",
    "<code>Z = X\\*W + B</code>로 표현 가능함  \n",
    "\n"
   ]
  },
  {
   "attachments": {},
   "cell_type": "markdown",
   "metadata": {},
   "source": [
    "# 백터함수로서의 Softmax  \n",
    "softmax는 각각의 원소로 이루어진 vector를 입력으로 받고  \n",
    "입력 백터를 출력 백터로 변환시키는 백터함수로 해석 가능함.  \n",
    "[l1, l2, l3, l4] -> softmax -> [p1, p2, p3, p4]  \n",
    "  \n",
    "그라디언트는 아래와 같이 계산됨.  \n",
    "<img src=\"./imgs/230531_1.jpg\" alt=\"이미지_설명\" width=\"500\" height=\"400\">  \n",
    "  \n"
   ]
  }
 ],
 "metadata": {
  "kernelspec": {
   "display_name": "vision",
   "language": "python",
   "name": "python3"
  },
  "language_info": {
   "name": "python",
   "version": "3.11.3"
  },
  "orig_nbformat": 4
 },
 "nbformat": 4,
 "nbformat_minor": 2
}
