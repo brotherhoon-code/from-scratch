{
 "cells": [
  {
   "attachments": {},
   "cell_type": "markdown",
   "metadata": {},
   "source": [
    "AWS  \n",
    "EC2(컴퓨터를 빌려주는 서비스).  \n",
    "저렴한 가격으로 서비스를 배포할 수 있는 것이 장점.  \n",
    "컴퓨터를 임대해주는 사업이 클라우드 컴퓨팅의 본질임.  \n",
    "RDS(MySQL, SQL, ORACLE)이 설치되고 필요한 구현, 백업과 같이 까다로운 처리를 미리 처리해주기도 함.  \n",
    "클라우드에 점점 다양한 서비스를 핸들링할수 있도록 구현되어가고 있음.   "
   ]
  },
  {
   "attachments": {},
   "cell_type": "markdown",
   "metadata": {},
   "source": [
    "## 2. 수업의 목적  \n",
    "* 맥을 쓰고있는데 한달에 한번 윈도우를 쓸 필요가 있다고 가정해 봄.  \n",
    "* 구매가 아니라, 원격 제어를 통해서 잠깐 쓰고 끌 수 있다면 유용하지 않을까(?)라는 가정에서 출발.  "
   ]
  },
  {
   "attachments": {},
   "cell_type": "markdown",
   "metadata": {},
   "source": [
    "## 3. 나에게 필요한 서비스를 찾기  \n",
    "* [링크](https://aws.amazon.com/ko/?nc2=h_lg) 여기서 뒤적거려봐라"
   ]
  },
  {
   "attachments": {},
   "cell_type": "markdown",
   "metadata": {},
   "source": [
    "## 4. 요금 따져보기  \n",
    "* [요금](https://aws.amazon.com/ko/ec2/pricing/?did=ap_card&trk=ap_card)\n",
    "* 온디맨드: 쓰는만큼 돈을 냄.  \n",
    "* 절감형 플랜: 조금 저렴한 가격으로 쿠폰 구매하는 방식임.  \n",
    "* 온디맨드 접속, OS 및 리전 선택해서 확인해야 함.  \n",
    "* 쉽게 24시간에 얼마 부과되는지 계산해보면 좋음.  "
   ]
  },
  {
   "attachments": {},
   "cell_type": "markdown",
   "metadata": {},
   "source": [
    "## 5. 프리티어  \n",
    "* 일반적으로 클라우드 서비스는 <span style='color:red'>프리티어</span>라는 무료 체험을 제공함.  \n",
    "* [링크](https://aws.amazon.com/ko/ec2/pricing/?loc=ft#Free_tier) # 프리티어 서비스 링크  \n"
   ]
  },
  {
   "attachments": {},
   "cell_type": "markdown",
   "metadata": {},
   "source": []
  }
 ],
 "metadata": {
  "language_info": {
   "name": "python"
  },
  "orig_nbformat": 4
 },
 "nbformat": 4,
 "nbformat_minor": 2
}
